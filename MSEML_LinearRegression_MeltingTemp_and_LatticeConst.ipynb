{
 "cells": [
  {
   "cell_type": "markdown",
   "metadata": {},
   "source": [
    "## *Using a linear regression model to predict material properties*\n",
    "\n",
    "\n",
    "**Why?** Creating regression models that represent correlations between properties associated with materials enables engineers, scientists and students to find interesting trends on datasets and develop simple surrogate models.\n",
    "\n",
    "**What?** In this tutorial, we will learn how to use the linear regression model from the [Scikit-learn](https://scikit-learn.org/stable/) Python library to develop simple models for correlations between properties across materials. Data will be obtained from [Pymatgen](http://pymatgen.org/) and [Mendeleev](https://mendeleev.readthedocs.io/en/stable/).\n",
    "\n",
    "**How to use this?** This tutorial uses Python, some familiarity with programming would be beneficial but is not required. Run each code cell in order by clicking \"Shift + Enter\". Feel free to modify the code, or change queries to familiarize yourself with the workings on the code.\n",
    "\n",
    "Suggested modifications and exercises are included in <font color=blue> blue</font>.\n",
    "\n",
    "**Outline:**\n",
    "\n",
    "1. Getting data\n",
    "2. Processing and Organizing Data\n",
    "3. Creating the Model\n",
    "4. Plotting\n",
    "\n",
    "\n",
    "**Get started:** Click \"Shift-Enter\" on the code cells to run! \n"
   ]
  },
  {
   "cell_type": "markdown",
   "metadata": {},
   "source": [
    "### 1. Getting Data\n",
    "\n",
    "Using the queries from the [MSEML Query_Viz](MSEML_Query_Viz.ipynb) tutorial, we will create lists containing different properties of elements. In this first snippet of code we will import all relevant libraries, the elements that will be turned into cases and the properties that will serve as the attributes for the cases. The elements listed were chosen because they represent the three most common crystallographic structures, and also querying them for properties yields a dataset with no unknown values."
   ]
  },
  {
   "cell_type": "code",
   "execution_count": 2,
   "metadata": {},
   "outputs": [],
   "source": [
    "import numpy as np\n",
    "import pymatgen as pymat\n",
    "import mendeleev as mendel\n",
    "from sklearn import datasets, linear_model\n",
    "from sklearn.metrics import mean_squared_error, r2_score\n",
    "from random import shuffle\n",
    "import matplotlib.pyplot as plt\n",
    "\n",
    "\n",
    "fcc_elements = [\"Ag\", \"Al\", \"Au\", \"Cu\", \"Ir\", \"Ni\", \"Pb\", \"Pd\", \"Pt\", \"Rh\", \"Th\", \"Yb\"]\n",
    "bcc_elements = [\"Ba\", \"Cr\", \"Eu\", \"Fe\", \"Li\", \"Mn\", \"Mo\", \"Na\", \"Nb\", \"Ta\", \"V\", \"W\" ]\n",
    "hcp_elements = [\"Be\", \"Ca\", \"Cd\", \"Co\", \"Dy\", \"Er\", \"Gd\", \"Hf\", \"Ho\", \"Lu\", \"Mg\", \"Re\", \n",
    "                \"Ru\", \"Sc\", \"Tb\", \"Ti\", \"Tl\", \"Tm\", \"Y\", \"Zn\", \"Zr\"]\n",
    "others = [\"Sb\", \"Sm\", \"Bi\", \"Ce\", \"Sn\", \"Si\"]\n",
    "# Others (Solids): \"Sb\", \"Sm\", Bi\" and \"As\" are Rhombohedral; \"C\" , \"Ce\" and \"Sn\" are Allotropic; \n",
    "# \"Si\" and \"Ge\" are Face-centered diamond-cubic;\n",
    "\n",
    "elements = fcc_elements + bcc_elements + hcp_elements + others\n",
    "\n",
    "# This function randomly arranges the elements so we can have representation for all groups both in the training and testing set\n",
    "shuffle(elements) \n",
    "\n",
    "data_lattice_constant = []\n",
    "data_melting_point = []\n",
    "\n",
    "for item in elements:\n",
    "    data_lattice_constant.append(mendel.element(item).lattice_constant)\n",
    "    data_melting_point.append(mendel.element(item).melting_point)"
   ]
  },
  {
   "cell_type": "code",
   "execution_count": 3,
   "metadata": {},
   "outputs": [],
   "source": [
    "# You can see how these lists look by printing them.\n",
    "\n",
    "#print(data_lattice_constant)\n",
    "#print(data_melting_point)\n"
   ]
  },
  {
   "cell_type": "markdown",
   "metadata": {},
   "source": [
    "### 2. Processing and Organizing Data\n",
    "\n",
    "Simple Linear Regression is one of the easiest models to implement, and can let you see how one property is related to another explanatory variable. As with all Machine Learning models, we will use a training set and a testing set.\n",
    "\n",
    "##### SETS\n",
    "\n",
    "Each of the lists we just created contains values for the properties of the elements. Analyzing the code, you can infer that the indexes in these arrays represent a specific element. For example:\n",
    "\n",
    "    For element \"Ag\" with index 2, the properties would be located at:\n",
    "   \n",
    "    data_young_modulus [2]\n",
    "    data_lattice_constant[2]\n",
    "    data_melting_point[2]\n",
    "    data_specific_heat[2]\n",
    "    data_atomic_mass[2]\n",
    "    data_CTE[2]\n",
    "\n",
    "\n",
    "##### TRAINING AND TESTING SETS\n",
    "\n",
    "With all this data, we will select 45 elements to become the training set and 6 elements to be the testing set.\n",
    "\n",
    "The training group will be used to train or develop the model, the second group will be used for testing. This is done to avoid or check overfitting. While overfitting is not likely in a linear model it can happen in more complex models, like neural networks.\n",
    "\n",
    "##### NORMALIZATION\n",
    "\n",
    "Machine Learning models usually require data to be processed and normalized. In this linear model we will process the data to be in the format required by the [sklearn](https://scikit-learn.org/stable/) model, but we will not normalize as we are interested in visualizing trends in our raw data, instead of precise predictions."
   ]
  },
  {
   "cell_type": "code",
   "execution_count": 4,
   "metadata": {},
   "outputs": [],
   "source": [
    "# Here we will organize the data in a format sk-learn accepts\n",
    "# We will develop linear models that relate Young's modulus and melting temperature, CTE vs. melting temperature \n",
    "# and lattice constant and melting temperature\n",
    "\n",
    "# These would be the sets for Melting Point\n",
    "\n",
    "melt_train = data_melting_point[:45] # This takes the first 45 entries to be the Training Set\n",
    "melt_test = data_melting_point[-6:] # This takes the last 6 entries to be the Testing Set\n",
    "\n",
    "# This Reshape function in the next two lines, turns each of the horizontal lists [ x, y, z] into a\n",
    "# vertical NumPy array [[x]\n",
    "#                       [y]\n",
    "#                       [z]]\n",
    "# This Step is required to work with the Sklearn Linear Model\n",
    "\n",
    "melt_train = np.array(melt_train).reshape(-1,1) \n",
    "melt_test = np.array(melt_test).reshape(-1,1)\n",
    "\n",
    "#Each data set will be divided in training and test data\n",
    "# These would be the sets for Lattice Constants\n",
    "\n",
    "lattice_train = data_lattice_constant[:45]\n",
    "lattice_test = data_lattice_constant[-6:]\n",
    "lattice_train = np.array(lattice_train).reshape(-1,1)\n",
    "lattice_test = np.array(lattice_test).reshape(-1,1)\n"
   ]
  },
  {
   "cell_type": "markdown",
   "metadata": {},
   "source": [
    "### 3. Function to define model, train it and make predictions\n",
    "\n",
    "Sklearn uses an \"Ordinary least squares linear regression\" for its Linear model. Implementation is described [here](https://scikit-learn.org/stable/modules/generated/sklearn.linear_model.LinearRegression.html). We will run it will all default values. \n",
    "\n",
    "The **regression** function in the next cell creates a model. It does so by declaring a linear model, and then fitting it to the training set. We then make predictions feeding the model the X-axis testing set. \n",
    "\n",
    "We can then use the trained model (represented as an equation) to look at the variance score and understand how well our model does."
   ]
  },
  {
   "cell_type": "code",
   "execution_count": 5,
   "metadata": {},
   "outputs": [],
   "source": [
    "# This function defines a model, trains it, and uses it to predict\n",
    "# It also outputs the linear model and information about its accuracy\n",
    "\n",
    "def regression(x_train, x_test, y_train, y_test):\n",
    "    \n",
    "    # Define the model and train it\n",
    "    model = linear_model.LinearRegression()\n",
    "    model.fit(x_train, y_train)\n",
    "    \n",
    "    #Join train + test data \n",
    "    full_x = np.concatenate((x_train, x_test), axis=0)\n",
    "    full_y = np.concatenate((y_train, y_test), axis=0)\n",
    "    \n",
    "    # Use the model to predict the entire set of data\n",
    "    predictions = model.predict(full_x) # Make it for all values\n",
    "    \n",
    "    # Print model and mean squared error and variance score\n",
    "    print(\"Linear Equation: %.4e X + (%.4e)\"%(model.coef_, model.intercept_))\n",
    "    print(\"Mean squared error: %.4e\" % (mean_squared_error(full_y, predictions)))\n",
    "    print('Variance score: %.4f' % r2_score(full_y, predictions))    \n",
    "    \n",
    "    return predictions"
   ]
  },
  {
   "cell_type": "markdown",
   "metadata": {},
   "source": [
    "<font color=blue> **Exercise 1**. Research and provide for definition of the mean square error and variance score in terms of the linear model and data. You can find these definitions [here](https://scikit-learn.org/stable/modules/model_evaluation.html#mean-squared-error) and [here](https://scikit-learn.org/stable/modules/model_evaluation.html#explained-variance-score).</font>"
   ]
  },
  {
   "cell_type": "markdown",
   "metadata": {},
   "source": [
    "### 4. Function for plotting data\n",
    "\n",
    "To visualize the trends that the model fit to our data, we will plot the two properties. We will use Plotly to create this plot.\n",
    "\n",
    " * The first cell defines a function that organizes data and generates the plot\n",
    " * The following cells train  models and plot"
   ]
  },
  {
   "cell_type": "code",
   "execution_count": 6,
   "metadata": {},
   "outputs": [
    {
     "data": {
      "text/html": [
       "        <script type=\"text/javascript\">\n",
       "        window.PlotlyConfig = {MathJaxConfig: 'local'};\n",
       "        if (window.MathJax) {MathJax.Hub.Config({SVG: {font: \"STIX-Web\"}});}\n",
       "        if (typeof require !== 'undefined') {\n",
       "        require.undef(\"plotly\");\n",
       "        requirejs.config({\n",
       "            paths: {\n",
       "                'plotly': ['https://cdn.plot.ly/plotly-latest.min']\n",
       "            }\n",
       "        });\n",
       "        require(['plotly'], function(Plotly) {\n",
       "            window._Plotly = Plotly;\n",
       "        });\n",
       "        }\n",
       "        </script>\n",
       "        "
      ]
     },
     "metadata": {},
     "output_type": "display_data"
    }
   ],
   "source": [
    "import plotly #This is the library import\n",
    "import plotly.graph_objs as go # This is the graphical object (Think \"plt\" in Matplotlib if you have used that before)\n",
    "from plotly.offline import iplot # These lines are necessary to run Plotly in Jupyter Notebooks, but not in a dedicated environment\n",
    "\n",
    "plotly.offline.init_notebook_mode(connected=True)\n",
    "\n",
    "def plot(x_train, x_test, y_train, y_test, x_label, y_label, predictions):\n",
    "    \n",
    "    # The reshape functions in the next two lines, turns each of the\n",
    "    # vertical NumPy array [[x]\n",
    "    #                       [y]\n",
    "    #                       [z]]\n",
    "    # into python lists [ x, y, z]\n",
    "    \n",
    "    # This step is required to create plots with plotly like we did in the previous tutorial\n",
    "    \n",
    "    x_train = x_train.reshape(1,-1).tolist()[0]\n",
    "    x_test = x_test.reshape(1,-1).tolist()[0]\n",
    "    y_train = y_train.reshape(1,-1).tolist()[0]\n",
    "    y_test = y_test.reshape(1,-1).tolist()[0]    \n",
    "    predictions = predictions.reshape(1,-1).tolist()[0]\n",
    "    full_x_list = x_train + x_test\n",
    "\n",
    "    \n",
    "    # Now we get back to what we know. Remember, to plot in Plotly, we need a layout and at least one trace\n",
    "    \n",
    "    layout0= go.Layout(hovermode= 'closest', width = 800, height=600, showlegend=True,  # Hovermode establishes the way the labels that appear when you hover are arranged # Establishing a square plot width=height\n",
    "    xaxis= dict(title=go.layout.xaxis.Title(text=x_label, font=dict(size=24)), zeroline= False, gridwidth= 1, tickfont=dict(size=18)), # Axis Titles. Removing the X-axis Mark. Adding a Grid\n",
    "    yaxis= dict(title=go.layout.yaxis.Title(text=y_label, font=dict(size=24)), zeroline= False, gridwidth= 1, tickfont=dict(size=18)), # Axis Titles. Removing the Y-axis Mark. Adding a Grid\n",
    "    legend=dict(font=dict(size=24))) # Adding a legend\n",
    "    \n",
    "\n",
    "    training = go.Scatter(x = x_train, y = y_train, mode = 'markers', \n",
    "                          marker= dict(size= 10, color= 'green'), name= \"Training Data\") \n",
    "    # This trace contains the values for the data in the training set\n",
    "    \n",
    "    actual = go.Scatter(x = x_test, y = y_test, mode = 'markers', \n",
    "                        marker= dict(size= 10, color= 'red'), name= \"Testing Data\") \n",
    "    # This trace contains the values for the data in the testing set\n",
    "\n",
    "    prediction = go.Scatter(x = full_x_list, y = predictions, mode = 'lines', \n",
    "                            line = dict(color = \"blue\", width = 1.5),name= \"Model\") \n",
    "    # This trace will be the line the model fitted the data to\n",
    "\n",
    "    data = [training, actual, prediction]\n",
    "    fig= go.Figure(data, layout=layout0)\n",
    "    iplot(fig)"
   ]
  },
  {
   "cell_type": "markdown",
   "metadata": {},
   "source": [
    "### 5. Train models and plot results\n",
    "\n"
   ]
  },
  {
   "cell_type": "code",
   "execution_count": 7,
   "metadata": {},
   "outputs": [
    {
     "name": "stdout",
     "output_type": "stream",
     "text": [
      "Linear Equation: -5.1964e-04 X + (4.8410e+00)\n",
      "Mean squared error: 1.5323e+00\n",
      "Variance score: 0.1080\n"
     ]
    },
    {
     "data": {
      "application/vnd.plotly.v1+json": {
       "config": {
        "linkText": "Export to plot.ly",
        "plotlyServerURL": "https://plot.ly",
        "showLink": false
       },
       "data": [
        {
         "marker": {
          "color": "green",
          "size": 10
         },
         "mode": "markers",
         "name": "Training Data",
         "type": "scatter",
         "x": [
          1551,
          1356.6,
          594.1,
          1337.58,
          1802,
          2741,
          553.69,
          3680,
          922,
          2130,
          1072,
          3269,
          1517,
          2683,
          544.5,
          1936,
          903.9,
          1808,
          2503,
          2125,
          1726,
          1235.1,
          1097,
          1768,
          1586,
          1814,
          1825,
          1795,
          600.65,
          1683,
          370.96,
          1818,
          1933,
          1685,
          505.1,
          3453,
          2239,
          1112,
          2028,
          1629,
          692.73,
          1095,
          2160,
          576.6,
          1350
         ],
         "y": [
          2.29,
          3.61,
          2.98,
          4.08,
          3.56,
          3.3,
          3.49,
          3.16,
          3.21,
          2.88,
          5.16,
          3.31,
          8.89,
          3.84,
          4.75,
          3.51,
          4.51,
          2.87,
          3.2,
          3.23,
          3.52,
          4.09,
          5.49,
          2.51,
          3.64,
          3.31,
          3.89,
          3.65,
          4.95,
          5.43,
          4.23,
          3.54,
          2.95,
          3.59,
          5.82,
          2.76,
          3.8,
          5.58,
          5.08,
          3.6,
          2.66,
          4.61,
          3.02,
          3.46,
          9
         ]
        },
        {
         "marker": {
          "color": "red",
          "size": 10
         },
         "mode": "markers",
         "name": "Testing Data",
         "type": "scatter",
         "x": [
          2583,
          1002,
          2045,
          1747,
          933.5,
          2890
         ],
         "y": [
          2.7,
          5.02,
          3.92,
          3.58,
          4.05,
          3.15
         ]
        },
        {
         "line": {
          "color": "blue",
          "width": 1.5
         },
         "mode": "lines",
         "name": "Model",
         "type": "scatter",
         "x": [
          1551,
          1356.6,
          594.1,
          1337.58,
          1802,
          2741,
          553.69,
          3680,
          922,
          2130,
          1072,
          3269,
          1517,
          2683,
          544.5,
          1936,
          903.9,
          1808,
          2503,
          2125,
          1726,
          1235.1,
          1097,
          1768,
          1586,
          1814,
          1825,
          1795,
          600.65,
          1683,
          370.96,
          1818,
          1933,
          1685,
          505.1,
          3453,
          2239,
          1112,
          2028,
          1629,
          692.73,
          1095,
          2160,
          576.6,
          1350,
          2583,
          1002,
          2045,
          1747,
          933.5,
          2890
         ],
         "y": [
          4.034997989648485,
          4.136016552909086,
          4.53224419944308,
          4.145900159252793,
          3.9045676430517204,
          3.41662303964789,
          4.553242965602344,
          2.928678436244059,
          4.3618533203630845,
          3.7341247996902123,
          4.283906898094102,
          3.142251633261071,
          4.052665845362787,
          3.4467623229252298,
          4.558018483073357,
          3.8349355058247627,
          4.371258855316875,
          3.901449786160961,
          3.5402980296480084,
          3.736723013765845,
          3.944060497001338,
          4.199153154946962,
          4.270915827715938,
          3.9222354987660233,
          4.016810491119055,
          3.898331929270202,
          3.8926158583038095,
          3.9082051427576063,
          4.528840539004001,
          3.9664051380517797,
          4.648197297210419,
          3.8962533580096954,
          3.8364944342701426,
          3.965365852421527,
          4.578492409989344,
          3.0466373552777863,
          3.6774837328414183,
          4.26312118548904,
          3.7871283668331204,
          3.9944658500686137,
          4.480991828587149,
          4.271955113346191,
          3.7185355152364155,
          4.541337948707795,
          4.1394461954889215,
          3.4987266044378846,
          4.32028189515296,
          3.7782944389759687,
          3.9331479978836805,
          4.355877427989129,
          3.3391962601940337
         ]
        }
       ],
       "layout": {
        "height": 600,
        "hovermode": "closest",
        "legend": {
         "font": {
          "size": 24
         }
        },
        "showlegend": true,
        "template": {
         "data": {
          "bar": [
           {
            "error_x": {
             "color": "#2a3f5f"
            },
            "error_y": {
             "color": "#2a3f5f"
            },
            "marker": {
             "line": {
              "color": "#E5ECF6",
              "width": 0.5
             }
            },
            "type": "bar"
           }
          ],
          "barpolar": [
           {
            "marker": {
             "line": {
              "color": "#E5ECF6",
              "width": 0.5
             }
            },
            "type": "barpolar"
           }
          ],
          "carpet": [
           {
            "aaxis": {
             "endlinecolor": "#2a3f5f",
             "gridcolor": "white",
             "linecolor": "white",
             "minorgridcolor": "white",
             "startlinecolor": "#2a3f5f"
            },
            "baxis": {
             "endlinecolor": "#2a3f5f",
             "gridcolor": "white",
             "linecolor": "white",
             "minorgridcolor": "white",
             "startlinecolor": "#2a3f5f"
            },
            "type": "carpet"
           }
          ],
          "choropleth": [
           {
            "colorbar": {
             "outlinewidth": 0,
             "ticks": ""
            },
            "type": "choropleth"
           }
          ],
          "contour": [
           {
            "colorbar": {
             "outlinewidth": 0,
             "ticks": ""
            },
            "colorscale": [
             [
              0,
              "#0d0887"
             ],
             [
              0.1111111111111111,
              "#46039f"
             ],
             [
              0.2222222222222222,
              "#7201a8"
             ],
             [
              0.3333333333333333,
              "#9c179e"
             ],
             [
              0.4444444444444444,
              "#bd3786"
             ],
             [
              0.5555555555555556,
              "#d8576b"
             ],
             [
              0.6666666666666666,
              "#ed7953"
             ],
             [
              0.7777777777777778,
              "#fb9f3a"
             ],
             [
              0.8888888888888888,
              "#fdca26"
             ],
             [
              1,
              "#f0f921"
             ]
            ],
            "type": "contour"
           }
          ],
          "contourcarpet": [
           {
            "colorbar": {
             "outlinewidth": 0,
             "ticks": ""
            },
            "type": "contourcarpet"
           }
          ],
          "heatmap": [
           {
            "colorbar": {
             "outlinewidth": 0,
             "ticks": ""
            },
            "colorscale": [
             [
              0,
              "#0d0887"
             ],
             [
              0.1111111111111111,
              "#46039f"
             ],
             [
              0.2222222222222222,
              "#7201a8"
             ],
             [
              0.3333333333333333,
              "#9c179e"
             ],
             [
              0.4444444444444444,
              "#bd3786"
             ],
             [
              0.5555555555555556,
              "#d8576b"
             ],
             [
              0.6666666666666666,
              "#ed7953"
             ],
             [
              0.7777777777777778,
              "#fb9f3a"
             ],
             [
              0.8888888888888888,
              "#fdca26"
             ],
             [
              1,
              "#f0f921"
             ]
            ],
            "type": "heatmap"
           }
          ],
          "heatmapgl": [
           {
            "colorbar": {
             "outlinewidth": 0,
             "ticks": ""
            },
            "colorscale": [
             [
              0,
              "#0d0887"
             ],
             [
              0.1111111111111111,
              "#46039f"
             ],
             [
              0.2222222222222222,
              "#7201a8"
             ],
             [
              0.3333333333333333,
              "#9c179e"
             ],
             [
              0.4444444444444444,
              "#bd3786"
             ],
             [
              0.5555555555555556,
              "#d8576b"
             ],
             [
              0.6666666666666666,
              "#ed7953"
             ],
             [
              0.7777777777777778,
              "#fb9f3a"
             ],
             [
              0.8888888888888888,
              "#fdca26"
             ],
             [
              1,
              "#f0f921"
             ]
            ],
            "type": "heatmapgl"
           }
          ],
          "histogram": [
           {
            "marker": {
             "colorbar": {
              "outlinewidth": 0,
              "ticks": ""
             }
            },
            "type": "histogram"
           }
          ],
          "histogram2d": [
           {
            "colorbar": {
             "outlinewidth": 0,
             "ticks": ""
            },
            "colorscale": [
             [
              0,
              "#0d0887"
             ],
             [
              0.1111111111111111,
              "#46039f"
             ],
             [
              0.2222222222222222,
              "#7201a8"
             ],
             [
              0.3333333333333333,
              "#9c179e"
             ],
             [
              0.4444444444444444,
              "#bd3786"
             ],
             [
              0.5555555555555556,
              "#d8576b"
             ],
             [
              0.6666666666666666,
              "#ed7953"
             ],
             [
              0.7777777777777778,
              "#fb9f3a"
             ],
             [
              0.8888888888888888,
              "#fdca26"
             ],
             [
              1,
              "#f0f921"
             ]
            ],
            "type": "histogram2d"
           }
          ],
          "histogram2dcontour": [
           {
            "colorbar": {
             "outlinewidth": 0,
             "ticks": ""
            },
            "colorscale": [
             [
              0,
              "#0d0887"
             ],
             [
              0.1111111111111111,
              "#46039f"
             ],
             [
              0.2222222222222222,
              "#7201a8"
             ],
             [
              0.3333333333333333,
              "#9c179e"
             ],
             [
              0.4444444444444444,
              "#bd3786"
             ],
             [
              0.5555555555555556,
              "#d8576b"
             ],
             [
              0.6666666666666666,
              "#ed7953"
             ],
             [
              0.7777777777777778,
              "#fb9f3a"
             ],
             [
              0.8888888888888888,
              "#fdca26"
             ],
             [
              1,
              "#f0f921"
             ]
            ],
            "type": "histogram2dcontour"
           }
          ],
          "mesh3d": [
           {
            "colorbar": {
             "outlinewidth": 0,
             "ticks": ""
            },
            "type": "mesh3d"
           }
          ],
          "parcoords": [
           {
            "line": {
             "colorbar": {
              "outlinewidth": 0,
              "ticks": ""
             }
            },
            "type": "parcoords"
           }
          ],
          "pie": [
           {
            "automargin": true,
            "type": "pie"
           }
          ],
          "scatter": [
           {
            "marker": {
             "colorbar": {
              "outlinewidth": 0,
              "ticks": ""
             }
            },
            "type": "scatter"
           }
          ],
          "scatter3d": [
           {
            "line": {
             "colorbar": {
              "outlinewidth": 0,
              "ticks": ""
             }
            },
            "marker": {
             "colorbar": {
              "outlinewidth": 0,
              "ticks": ""
             }
            },
            "type": "scatter3d"
           }
          ],
          "scattercarpet": [
           {
            "marker": {
             "colorbar": {
              "outlinewidth": 0,
              "ticks": ""
             }
            },
            "type": "scattercarpet"
           }
          ],
          "scattergeo": [
           {
            "marker": {
             "colorbar": {
              "outlinewidth": 0,
              "ticks": ""
             }
            },
            "type": "scattergeo"
           }
          ],
          "scattergl": [
           {
            "marker": {
             "colorbar": {
              "outlinewidth": 0,
              "ticks": ""
             }
            },
            "type": "scattergl"
           }
          ],
          "scattermapbox": [
           {
            "marker": {
             "colorbar": {
              "outlinewidth": 0,
              "ticks": ""
             }
            },
            "type": "scattermapbox"
           }
          ],
          "scatterpolar": [
           {
            "marker": {
             "colorbar": {
              "outlinewidth": 0,
              "ticks": ""
             }
            },
            "type": "scatterpolar"
           }
          ],
          "scatterpolargl": [
           {
            "marker": {
             "colorbar": {
              "outlinewidth": 0,
              "ticks": ""
             }
            },
            "type": "scatterpolargl"
           }
          ],
          "scatterternary": [
           {
            "marker": {
             "colorbar": {
              "outlinewidth": 0,
              "ticks": ""
             }
            },
            "type": "scatterternary"
           }
          ],
          "surface": [
           {
            "colorbar": {
             "outlinewidth": 0,
             "ticks": ""
            },
            "colorscale": [
             [
              0,
              "#0d0887"
             ],
             [
              0.1111111111111111,
              "#46039f"
             ],
             [
              0.2222222222222222,
              "#7201a8"
             ],
             [
              0.3333333333333333,
              "#9c179e"
             ],
             [
              0.4444444444444444,
              "#bd3786"
             ],
             [
              0.5555555555555556,
              "#d8576b"
             ],
             [
              0.6666666666666666,
              "#ed7953"
             ],
             [
              0.7777777777777778,
              "#fb9f3a"
             ],
             [
              0.8888888888888888,
              "#fdca26"
             ],
             [
              1,
              "#f0f921"
             ]
            ],
            "type": "surface"
           }
          ],
          "table": [
           {
            "cells": {
             "fill": {
              "color": "#EBF0F8"
             },
             "line": {
              "color": "white"
             }
            },
            "header": {
             "fill": {
              "color": "#C8D4E3"
             },
             "line": {
              "color": "white"
             }
            },
            "type": "table"
           }
          ]
         },
         "layout": {
          "annotationdefaults": {
           "arrowcolor": "#2a3f5f",
           "arrowhead": 0,
           "arrowwidth": 1
          },
          "autotypenumbers": "strict",
          "coloraxis": {
           "colorbar": {
            "outlinewidth": 0,
            "ticks": ""
           }
          },
          "colorscale": {
           "diverging": [
            [
             0,
             "#8e0152"
            ],
            [
             0.1,
             "#c51b7d"
            ],
            [
             0.2,
             "#de77ae"
            ],
            [
             0.3,
             "#f1b6da"
            ],
            [
             0.4,
             "#fde0ef"
            ],
            [
             0.5,
             "#f7f7f7"
            ],
            [
             0.6,
             "#e6f5d0"
            ],
            [
             0.7,
             "#b8e186"
            ],
            [
             0.8,
             "#7fbc41"
            ],
            [
             0.9,
             "#4d9221"
            ],
            [
             1,
             "#276419"
            ]
           ],
           "sequential": [
            [
             0,
             "#0d0887"
            ],
            [
             0.1111111111111111,
             "#46039f"
            ],
            [
             0.2222222222222222,
             "#7201a8"
            ],
            [
             0.3333333333333333,
             "#9c179e"
            ],
            [
             0.4444444444444444,
             "#bd3786"
            ],
            [
             0.5555555555555556,
             "#d8576b"
            ],
            [
             0.6666666666666666,
             "#ed7953"
            ],
            [
             0.7777777777777778,
             "#fb9f3a"
            ],
            [
             0.8888888888888888,
             "#fdca26"
            ],
            [
             1,
             "#f0f921"
            ]
           ],
           "sequentialminus": [
            [
             0,
             "#0d0887"
            ],
            [
             0.1111111111111111,
             "#46039f"
            ],
            [
             0.2222222222222222,
             "#7201a8"
            ],
            [
             0.3333333333333333,
             "#9c179e"
            ],
            [
             0.4444444444444444,
             "#bd3786"
            ],
            [
             0.5555555555555556,
             "#d8576b"
            ],
            [
             0.6666666666666666,
             "#ed7953"
            ],
            [
             0.7777777777777778,
             "#fb9f3a"
            ],
            [
             0.8888888888888888,
             "#fdca26"
            ],
            [
             1,
             "#f0f921"
            ]
           ]
          },
          "colorway": [
           "#636efa",
           "#EF553B",
           "#00cc96",
           "#ab63fa",
           "#FFA15A",
           "#19d3f3",
           "#FF6692",
           "#B6E880",
           "#FF97FF",
           "#FECB52"
          ],
          "font": {
           "color": "#2a3f5f"
          },
          "geo": {
           "bgcolor": "white",
           "lakecolor": "white",
           "landcolor": "#E5ECF6",
           "showlakes": true,
           "showland": true,
           "subunitcolor": "white"
          },
          "hoverlabel": {
           "align": "left"
          },
          "hovermode": "closest",
          "mapbox": {
           "style": "light"
          },
          "paper_bgcolor": "white",
          "plot_bgcolor": "#E5ECF6",
          "polar": {
           "angularaxis": {
            "gridcolor": "white",
            "linecolor": "white",
            "ticks": ""
           },
           "bgcolor": "#E5ECF6",
           "radialaxis": {
            "gridcolor": "white",
            "linecolor": "white",
            "ticks": ""
           }
          },
          "scene": {
           "xaxis": {
            "backgroundcolor": "#E5ECF6",
            "gridcolor": "white",
            "gridwidth": 2,
            "linecolor": "white",
            "showbackground": true,
            "ticks": "",
            "zerolinecolor": "white"
           },
           "yaxis": {
            "backgroundcolor": "#E5ECF6",
            "gridcolor": "white",
            "gridwidth": 2,
            "linecolor": "white",
            "showbackground": true,
            "ticks": "",
            "zerolinecolor": "white"
           },
           "zaxis": {
            "backgroundcolor": "#E5ECF6",
            "gridcolor": "white",
            "gridwidth": 2,
            "linecolor": "white",
            "showbackground": true,
            "ticks": "",
            "zerolinecolor": "white"
           }
          },
          "shapedefaults": {
           "line": {
            "color": "#2a3f5f"
           }
          },
          "ternary": {
           "aaxis": {
            "gridcolor": "white",
            "linecolor": "white",
            "ticks": ""
           },
           "baxis": {
            "gridcolor": "white",
            "linecolor": "white",
            "ticks": ""
           },
           "bgcolor": "#E5ECF6",
           "caxis": {
            "gridcolor": "white",
            "linecolor": "white",
            "ticks": ""
           }
          },
          "title": {
           "x": 0.05
          },
          "xaxis": {
           "automargin": true,
           "gridcolor": "white",
           "linecolor": "white",
           "ticks": "",
           "title": {
            "standoff": 15
           },
           "zerolinecolor": "white",
           "zerolinewidth": 2
          },
          "yaxis": {
           "automargin": true,
           "gridcolor": "white",
           "linecolor": "white",
           "ticks": "",
           "title": {
            "standoff": 15
           },
           "zerolinecolor": "white",
           "zerolinewidth": 2
          }
         }
        },
        "width": 800,
        "xaxis": {
         "gridwidth": 1,
         "tickfont": {
          "size": 18
         },
         "title": {
          "font": {
           "size": 24
          },
          "text": "Melting Temperature (K)"
         },
         "zeroline": false
        },
        "yaxis": {
         "gridwidth": 1,
         "tickfont": {
          "size": 18
         },
         "title": {
          "font": {
           "size": 24
          },
          "text": "Lattice Constant (Å)"
         },
         "zeroline": false
        }
       }
      },
      "text/html": [
       "<div>                            <div id=\"5d1b2840-3e4f-4b3f-bd55-8a0a8321b0df\" class=\"plotly-graph-div\" style=\"height:600px; width:800px;\"></div>            <script type=\"text/javascript\">                require([\"plotly\"], function(Plotly) {                    window.PLOTLYENV=window.PLOTLYENV || {};                                    if (document.getElementById(\"5d1b2840-3e4f-4b3f-bd55-8a0a8321b0df\")) {                    Plotly.newPlot(                        \"5d1b2840-3e4f-4b3f-bd55-8a0a8321b0df\",                        [{\"marker\": {\"color\": \"green\", \"size\": 10}, \"mode\": \"markers\", \"name\": \"Training Data\", \"type\": \"scatter\", \"x\": [1551.0, 1356.6, 594.1, 1337.58, 1802.0, 2741.0, 553.69, 3680.0, 922.0, 2130.0, 1072.0, 3269.0, 1517.0, 2683.0, 544.5, 1936.0, 903.9, 1808.0, 2503.0, 2125.0, 1726.0, 1235.1, 1097.0, 1768.0, 1586.0, 1814.0, 1825.0, 1795.0, 600.65, 1683.0, 370.96, 1818.0, 1933.0, 1685.0, 505.1, 3453.0, 2239.0, 1112.0, 2028.0, 1629.0, 692.73, 1095.0, 2160.0, 576.6, 1350.0], \"y\": [2.29, 3.61, 2.98, 4.08, 3.56, 3.3, 3.49, 3.16, 3.21, 2.88, 5.16, 3.31, 8.89, 3.84, 4.75, 3.51, 4.51, 2.87, 3.2, 3.23, 3.52, 4.09, 5.49, 2.51, 3.64, 3.31, 3.89, 3.65, 4.95, 5.43, 4.23, 3.54, 2.95, 3.59, 5.82, 2.76, 3.8, 5.58, 5.08, 3.6, 2.66, 4.61, 3.02, 3.46, 9.0]}, {\"marker\": {\"color\": \"red\", \"size\": 10}, \"mode\": \"markers\", \"name\": \"Testing Data\", \"type\": \"scatter\", \"x\": [2583.0, 1002.0, 2045.0, 1747.0, 933.5, 2890.0], \"y\": [2.7, 5.02, 3.92, 3.58, 4.05, 3.15]}, {\"line\": {\"color\": \"blue\", \"width\": 1.5}, \"mode\": \"lines\", \"name\": \"Model\", \"type\": \"scatter\", \"x\": [1551.0, 1356.6, 594.1, 1337.58, 1802.0, 2741.0, 553.69, 3680.0, 922.0, 2130.0, 1072.0, 3269.0, 1517.0, 2683.0, 544.5, 1936.0, 903.9, 1808.0, 2503.0, 2125.0, 1726.0, 1235.1, 1097.0, 1768.0, 1586.0, 1814.0, 1825.0, 1795.0, 600.65, 1683.0, 370.96, 1818.0, 1933.0, 1685.0, 505.1, 3453.0, 2239.0, 1112.0, 2028.0, 1629.0, 692.73, 1095.0, 2160.0, 576.6, 1350.0, 2583.0, 1002.0, 2045.0, 1747.0, 933.5, 2890.0], \"y\": [4.034997989648485, 4.136016552909086, 4.53224419944308, 4.145900159252793, 3.9045676430517204, 3.41662303964789, 4.553242965602344, 2.928678436244059, 4.3618533203630845, 3.7341247996902123, 4.283906898094102, 3.142251633261071, 4.052665845362787, 3.4467623229252298, 4.558018483073357, 3.8349355058247627, 4.371258855316875, 3.901449786160961, 3.5402980296480084, 3.736723013765845, 3.944060497001338, 4.199153154946962, 4.270915827715938, 3.9222354987660233, 4.016810491119055, 3.898331929270202, 3.8926158583038095, 3.9082051427576063, 4.528840539004001, 3.9664051380517797, 4.648197297210419, 3.8962533580096954, 3.8364944342701426, 3.965365852421527, 4.578492409989344, 3.0466373552777863, 3.6774837328414183, 4.26312118548904, 3.7871283668331204, 3.9944658500686137, 4.480991828587149, 4.271955113346191, 3.7185355152364155, 4.541337948707795, 4.1394461954889215, 3.4987266044378846, 4.32028189515296, 3.7782944389759687, 3.9331479978836805, 4.355877427989129, 3.3391962601940337]}],                        {\"height\": 600, \"hovermode\": \"closest\", \"legend\": {\"font\": {\"size\": 24}}, \"showlegend\": true, \"template\": {\"data\": {\"bar\": [{\"error_x\": {\"color\": \"#2a3f5f\"}, \"error_y\": {\"color\": \"#2a3f5f\"}, \"marker\": {\"line\": {\"color\": \"#E5ECF6\", \"width\": 0.5}}, \"type\": \"bar\"}], \"barpolar\": [{\"marker\": {\"line\": {\"color\": \"#E5ECF6\", \"width\": 0.5}}, \"type\": \"barpolar\"}], \"carpet\": [{\"aaxis\": {\"endlinecolor\": \"#2a3f5f\", \"gridcolor\": \"white\", \"linecolor\": \"white\", \"minorgridcolor\": \"white\", \"startlinecolor\": \"#2a3f5f\"}, \"baxis\": {\"endlinecolor\": \"#2a3f5f\", \"gridcolor\": \"white\", \"linecolor\": \"white\", \"minorgridcolor\": \"white\", \"startlinecolor\": \"#2a3f5f\"}, \"type\": \"carpet\"}], \"choropleth\": [{\"colorbar\": {\"outlinewidth\": 0, \"ticks\": \"\"}, \"type\": \"choropleth\"}], \"contour\": [{\"colorbar\": {\"outlinewidth\": 0, \"ticks\": \"\"}, \"colorscale\": [[0.0, \"#0d0887\"], [0.1111111111111111, \"#46039f\"], [0.2222222222222222, \"#7201a8\"], [0.3333333333333333, \"#9c179e\"], [0.4444444444444444, \"#bd3786\"], [0.5555555555555556, \"#d8576b\"], [0.6666666666666666, \"#ed7953\"], [0.7777777777777778, \"#fb9f3a\"], [0.8888888888888888, \"#fdca26\"], [1.0, \"#f0f921\"]], \"type\": \"contour\"}], \"contourcarpet\": [{\"colorbar\": {\"outlinewidth\": 0, \"ticks\": \"\"}, \"type\": \"contourcarpet\"}], \"heatmap\": [{\"colorbar\": {\"outlinewidth\": 0, \"ticks\": \"\"}, \"colorscale\": [[0.0, \"#0d0887\"], [0.1111111111111111, \"#46039f\"], [0.2222222222222222, \"#7201a8\"], [0.3333333333333333, \"#9c179e\"], [0.4444444444444444, \"#bd3786\"], [0.5555555555555556, \"#d8576b\"], [0.6666666666666666, \"#ed7953\"], [0.7777777777777778, \"#fb9f3a\"], [0.8888888888888888, \"#fdca26\"], [1.0, \"#f0f921\"]], \"type\": \"heatmap\"}], \"heatmapgl\": [{\"colorbar\": {\"outlinewidth\": 0, \"ticks\": \"\"}, \"colorscale\": [[0.0, \"#0d0887\"], [0.1111111111111111, \"#46039f\"], [0.2222222222222222, \"#7201a8\"], [0.3333333333333333, \"#9c179e\"], [0.4444444444444444, \"#bd3786\"], [0.5555555555555556, \"#d8576b\"], [0.6666666666666666, \"#ed7953\"], [0.7777777777777778, \"#fb9f3a\"], [0.8888888888888888, \"#fdca26\"], [1.0, \"#f0f921\"]], \"type\": \"heatmapgl\"}], \"histogram\": [{\"marker\": {\"colorbar\": {\"outlinewidth\": 0, \"ticks\": \"\"}}, \"type\": \"histogram\"}], \"histogram2d\": [{\"colorbar\": {\"outlinewidth\": 0, \"ticks\": \"\"}, \"colorscale\": [[0.0, \"#0d0887\"], [0.1111111111111111, \"#46039f\"], [0.2222222222222222, \"#7201a8\"], [0.3333333333333333, \"#9c179e\"], [0.4444444444444444, \"#bd3786\"], [0.5555555555555556, \"#d8576b\"], [0.6666666666666666, \"#ed7953\"], [0.7777777777777778, \"#fb9f3a\"], [0.8888888888888888, \"#fdca26\"], [1.0, \"#f0f921\"]], \"type\": \"histogram2d\"}], \"histogram2dcontour\": [{\"colorbar\": {\"outlinewidth\": 0, \"ticks\": \"\"}, \"colorscale\": [[0.0, \"#0d0887\"], [0.1111111111111111, \"#46039f\"], [0.2222222222222222, \"#7201a8\"], [0.3333333333333333, \"#9c179e\"], [0.4444444444444444, \"#bd3786\"], [0.5555555555555556, \"#d8576b\"], [0.6666666666666666, \"#ed7953\"], [0.7777777777777778, \"#fb9f3a\"], [0.8888888888888888, \"#fdca26\"], [1.0, \"#f0f921\"]], \"type\": \"histogram2dcontour\"}], \"mesh3d\": [{\"colorbar\": {\"outlinewidth\": 0, \"ticks\": \"\"}, \"type\": \"mesh3d\"}], \"parcoords\": [{\"line\": {\"colorbar\": {\"outlinewidth\": 0, \"ticks\": \"\"}}, \"type\": \"parcoords\"}], \"pie\": [{\"automargin\": true, \"type\": \"pie\"}], \"scatter\": [{\"marker\": {\"colorbar\": {\"outlinewidth\": 0, \"ticks\": \"\"}}, \"type\": \"scatter\"}], \"scatter3d\": [{\"line\": {\"colorbar\": {\"outlinewidth\": 0, \"ticks\": \"\"}}, \"marker\": {\"colorbar\": {\"outlinewidth\": 0, \"ticks\": \"\"}}, \"type\": \"scatter3d\"}], \"scattercarpet\": [{\"marker\": {\"colorbar\": {\"outlinewidth\": 0, \"ticks\": \"\"}}, \"type\": \"scattercarpet\"}], \"scattergeo\": [{\"marker\": {\"colorbar\": {\"outlinewidth\": 0, \"ticks\": \"\"}}, \"type\": \"scattergeo\"}], \"scattergl\": [{\"marker\": {\"colorbar\": {\"outlinewidth\": 0, \"ticks\": \"\"}}, \"type\": \"scattergl\"}], \"scattermapbox\": [{\"marker\": {\"colorbar\": {\"outlinewidth\": 0, \"ticks\": \"\"}}, \"type\": \"scattermapbox\"}], \"scatterpolar\": [{\"marker\": {\"colorbar\": {\"outlinewidth\": 0, \"ticks\": \"\"}}, \"type\": \"scatterpolar\"}], \"scatterpolargl\": [{\"marker\": {\"colorbar\": {\"outlinewidth\": 0, \"ticks\": \"\"}}, \"type\": \"scatterpolargl\"}], \"scatterternary\": [{\"marker\": {\"colorbar\": {\"outlinewidth\": 0, \"ticks\": \"\"}}, \"type\": \"scatterternary\"}], \"surface\": [{\"colorbar\": {\"outlinewidth\": 0, \"ticks\": \"\"}, \"colorscale\": [[0.0, \"#0d0887\"], [0.1111111111111111, \"#46039f\"], [0.2222222222222222, \"#7201a8\"], [0.3333333333333333, \"#9c179e\"], [0.4444444444444444, \"#bd3786\"], [0.5555555555555556, \"#d8576b\"], [0.6666666666666666, \"#ed7953\"], [0.7777777777777778, \"#fb9f3a\"], [0.8888888888888888, \"#fdca26\"], [1.0, \"#f0f921\"]], \"type\": \"surface\"}], \"table\": [{\"cells\": {\"fill\": {\"color\": \"#EBF0F8\"}, \"line\": {\"color\": \"white\"}}, \"header\": {\"fill\": {\"color\": \"#C8D4E3\"}, \"line\": {\"color\": \"white\"}}, \"type\": \"table\"}]}, \"layout\": {\"annotationdefaults\": {\"arrowcolor\": \"#2a3f5f\", \"arrowhead\": 0, \"arrowwidth\": 1}, \"autotypenumbers\": \"strict\", \"coloraxis\": {\"colorbar\": {\"outlinewidth\": 0, \"ticks\": \"\"}}, \"colorscale\": {\"diverging\": [[0, \"#8e0152\"], [0.1, \"#c51b7d\"], [0.2, \"#de77ae\"], [0.3, \"#f1b6da\"], [0.4, \"#fde0ef\"], [0.5, \"#f7f7f7\"], [0.6, \"#e6f5d0\"], [0.7, \"#b8e186\"], [0.8, \"#7fbc41\"], [0.9, \"#4d9221\"], [1, \"#276419\"]], \"sequential\": [[0.0, \"#0d0887\"], [0.1111111111111111, \"#46039f\"], [0.2222222222222222, \"#7201a8\"], [0.3333333333333333, \"#9c179e\"], [0.4444444444444444, \"#bd3786\"], [0.5555555555555556, \"#d8576b\"], [0.6666666666666666, \"#ed7953\"], [0.7777777777777778, \"#fb9f3a\"], [0.8888888888888888, \"#fdca26\"], [1.0, \"#f0f921\"]], \"sequentialminus\": [[0.0, \"#0d0887\"], [0.1111111111111111, \"#46039f\"], [0.2222222222222222, \"#7201a8\"], [0.3333333333333333, \"#9c179e\"], [0.4444444444444444, \"#bd3786\"], [0.5555555555555556, \"#d8576b\"], [0.6666666666666666, \"#ed7953\"], [0.7777777777777778, \"#fb9f3a\"], [0.8888888888888888, \"#fdca26\"], [1.0, \"#f0f921\"]]}, \"colorway\": [\"#636efa\", \"#EF553B\", \"#00cc96\", \"#ab63fa\", \"#FFA15A\", \"#19d3f3\", \"#FF6692\", \"#B6E880\", \"#FF97FF\", \"#FECB52\"], \"font\": {\"color\": \"#2a3f5f\"}, \"geo\": {\"bgcolor\": \"white\", \"lakecolor\": \"white\", \"landcolor\": \"#E5ECF6\", \"showlakes\": true, \"showland\": true, \"subunitcolor\": \"white\"}, \"hoverlabel\": {\"align\": \"left\"}, \"hovermode\": \"closest\", \"mapbox\": {\"style\": \"light\"}, \"paper_bgcolor\": \"white\", \"plot_bgcolor\": \"#E5ECF6\", \"polar\": {\"angularaxis\": {\"gridcolor\": \"white\", \"linecolor\": \"white\", \"ticks\": \"\"}, \"bgcolor\": \"#E5ECF6\", \"radialaxis\": {\"gridcolor\": \"white\", \"linecolor\": \"white\", \"ticks\": \"\"}}, \"scene\": {\"xaxis\": {\"backgroundcolor\": \"#E5ECF6\", \"gridcolor\": \"white\", \"gridwidth\": 2, \"linecolor\": \"white\", \"showbackground\": true, \"ticks\": \"\", \"zerolinecolor\": \"white\"}, \"yaxis\": {\"backgroundcolor\": \"#E5ECF6\", \"gridcolor\": \"white\", \"gridwidth\": 2, \"linecolor\": \"white\", \"showbackground\": true, \"ticks\": \"\", \"zerolinecolor\": \"white\"}, \"zaxis\": {\"backgroundcolor\": \"#E5ECF6\", \"gridcolor\": \"white\", \"gridwidth\": 2, \"linecolor\": \"white\", \"showbackground\": true, \"ticks\": \"\", \"zerolinecolor\": \"white\"}}, \"shapedefaults\": {\"line\": {\"color\": \"#2a3f5f\"}}, \"ternary\": {\"aaxis\": {\"gridcolor\": \"white\", \"linecolor\": \"white\", \"ticks\": \"\"}, \"baxis\": {\"gridcolor\": \"white\", \"linecolor\": \"white\", \"ticks\": \"\"}, \"bgcolor\": \"#E5ECF6\", \"caxis\": {\"gridcolor\": \"white\", \"linecolor\": \"white\", \"ticks\": \"\"}}, \"title\": {\"x\": 0.05}, \"xaxis\": {\"automargin\": true, \"gridcolor\": \"white\", \"linecolor\": \"white\", \"ticks\": \"\", \"title\": {\"standoff\": 15}, \"zerolinecolor\": \"white\", \"zerolinewidth\": 2}, \"yaxis\": {\"automargin\": true, \"gridcolor\": \"white\", \"linecolor\": \"white\", \"ticks\": \"\", \"title\": {\"standoff\": 15}, \"zerolinecolor\": \"white\", \"zerolinewidth\": 2}}}, \"width\": 800, \"xaxis\": {\"gridwidth\": 1, \"tickfont\": {\"size\": 18}, \"title\": {\"font\": {\"size\": 24}, \"text\": \"Melting Temperature (K)\"}, \"zeroline\": false}, \"yaxis\": {\"gridwidth\": 1, \"tickfont\": {\"size\": 18}, \"title\": {\"font\": {\"size\": 24}, \"text\": \"Lattice Constant (\\u00c5)\"}, \"zeroline\": false}},                        {\"responsive\": true}                    ).then(function(){\n",
       "                            \n",
       "var gd = document.getElementById('5d1b2840-3e4f-4b3f-bd55-8a0a8321b0df');\n",
       "var x = new MutationObserver(function (mutations, observer) {{\n",
       "        var display = window.getComputedStyle(gd).display;\n",
       "        if (!display || display === 'none') {{\n",
       "            console.log([gd, 'removed!']);\n",
       "            Plotly.purge(gd);\n",
       "            observer.disconnect();\n",
       "        }}\n",
       "}});\n",
       "\n",
       "// Listen for the removal of the full notebook cells\n",
       "var notebookContainer = gd.closest('#notebook-container');\n",
       "if (notebookContainer) {{\n",
       "    x.observe(notebookContainer, {childList: true});\n",
       "}}\n",
       "\n",
       "// Listen for the clearing of the current output cell\n",
       "var outputEl = gd.closest('.output');\n",
       "if (outputEl) {{\n",
       "    x.observe(outputEl, {childList: true});\n",
       "}}\n",
       "\n",
       "                        })                };                });            </script>        </div>"
      ]
     },
     "metadata": {},
     "output_type": "display_data"
    }
   ],
   "source": [
    "predictions = regression(melt_train, melt_test, lattice_train, lattice_test)\n",
    "\n",
    "plot(melt_train, melt_test, lattice_train, lattice_test, \"Melting Temperature (K)\", \"Lattice Constant (Å)\", predictions)"
   ]
  },
  {
   "cell_type": "code",
   "execution_count": null,
   "metadata": {},
   "outputs": [],
   "source": []
  }
 ],
 "metadata": {
  "kernelspec": {
   "display_name": "Python 3",
   "language": "python",
   "name": "python3"
  },
  "language_info": {
   "codemirror_mode": {
    "name": "ipython",
    "version": 3
   },
   "file_extension": ".py",
   "mimetype": "text/x-python",
   "name": "python",
   "nbconvert_exporter": "python",
   "pygments_lexer": "ipython3",
   "version": "3.7.7"
  }
 },
 "nbformat": 4,
 "nbformat_minor": 2
}
